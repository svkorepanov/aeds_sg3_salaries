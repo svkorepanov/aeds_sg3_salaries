{
 "cells": [
  {
   "cell_type": "markdown",
   "metadata": {
    "id": "uTPyiZs3vw8W"
   },
   "source": [
    "Imports"
   ]
  },
  {
   "cell_type": "code",
   "execution_count": 23,
   "metadata": {
    "id": "nWbgK4UwvlCL",
    "ExecuteTime": {
     "end_time": "2024-03-27T11:28:48.805761Z",
     "start_time": "2024-03-27T11:28:48.795922Z"
    }
   },
   "outputs": [
    {
     "data": {
      "text/plain": "'/Users/sergeykorepanov/PycharmProjects/pythonProject'"
     },
     "execution_count": 23,
     "metadata": {},
     "output_type": "execute_result"
    }
   ],
   "source": [
    "import os\n",
    "import pandas as pd\n",
    "import re\n",
    "os.getcwd()"
   ]
  },
  {
   "cell_type": "markdown",
   "source": [
    "# Understanding the Dataset\n",
    "\n",
    "Let's look at the first few rows of the dataset\n",
    "Even from this small sample we can see a lot of missing data and data that is not relevant.\n",
    "\n",
    "For example some of the job postings are missing `salary data` which is very important for our project.\n"
   ],
   "metadata": {
    "id": "liR392ZyQqKs"
   }
  },
  {
   "cell_type": "code",
   "source": [
    "df = pd.read_csv('./content/sample_data/us-software-engineer-jobs-zenrows.csv')\n",
    "df.head()"
   ],
   "metadata": {
    "colab": {
     "base_uri": "https://localhost:8080/",
     "height": 481
    },
    "id": "qgNE8w9MxDkF",
    "outputId": "02a5abd6-b326-4c9c-8c79-8232590903a0",
    "ExecuteTime": {
     "end_time": "2024-03-27T12:05:49.291885Z",
     "start_time": "2024-03-27T12:05:48.563975Z"
    }
   },
   "execution_count": 44,
   "outputs": [
    {
     "data": {
      "text/plain": "                                               title  \\\n0                                  Android Developer   \n1                                      Web Developer   \n2                              Sr. Android Developer   \n3                           Junior Software Engineer   \n4  Cloud Engineer (Software Engineer Advanced, Ex...   \n\n                            company                    salary  rating  \\\n0                           Shockoe                       NaN     0.0   \n1                      Denios, Inc.  $45,000 - $55,000 a year     0.0   \n2               The Cervantes Group                       NaN     4.1   \n3           Medical Knowledge Group                       NaN     0.0   \n4  Federal Reserve Bank of New York                       NaN     4.1   \n\n   review_count      types         location relative_time hires_needed  \\\n0             0  Full-time     Richmond, VA  30+ days ago          NaN   \n1             0  Full-time   Louisville, KY  30+ days ago          ONE   \n2            22  Full-time           Remote    6 days ago     TWO_FOUR   \n3             0  Full-time           Remote    8 days ago          ONE   \n4           548  Full-time  Kansas City, MO    2 days ago          NaN   \n\n  hires_needed_exact  ...  indeed_applyable        ad_id remote_location  \\\n0                NaN  ...             False          NaN           False   \n1                  1  ...              True  370154371.0           False   \n2                  2  ...              True          NaN           False   \n3                  1  ...              True  368864426.0           False   \n4                NaN  ...             False          NaN           False   \n\n   source_id hiring_event_job  indeed_apply_enabled job_location_postal  \\\n0   11706594            False                 False                 NaN   \n1   11468052            False                  True             40219.0   \n2    9570478            False                  True                 NaN   \n3     501562            False                  True                 NaN   \n4       1439            False                 False                 NaN   \n\n                   company_overview_link      activity_date  location_extras  \n0                                    NaN                NaN              NaN  \n1                                    NaN  Active 2 days ago              NaN  \n2               /cmp/The-Cervantes-Group  Active 3 days ago              NaN  \n3                                    NaN  Active 3 days ago              NaN  \n4  /cmp/Federal-Reserve-Bank-of-New-York                NaN              NaN  \n\n[5 rows x 29 columns]",
      "text/html": "<div>\n<style scoped>\n    .dataframe tbody tr th:only-of-type {\n        vertical-align: middle;\n    }\n\n    .dataframe tbody tr th {\n        vertical-align: top;\n    }\n\n    .dataframe thead th {\n        text-align: right;\n    }\n</style>\n<table border=\"1\" class=\"dataframe\">\n  <thead>\n    <tr style=\"text-align: right;\">\n      <th></th>\n      <th>title</th>\n      <th>company</th>\n      <th>salary</th>\n      <th>rating</th>\n      <th>review_count</th>\n      <th>types</th>\n      <th>location</th>\n      <th>relative_time</th>\n      <th>hires_needed</th>\n      <th>hires_needed_exact</th>\n      <th>...</th>\n      <th>indeed_applyable</th>\n      <th>ad_id</th>\n      <th>remote_location</th>\n      <th>source_id</th>\n      <th>hiring_event_job</th>\n      <th>indeed_apply_enabled</th>\n      <th>job_location_postal</th>\n      <th>company_overview_link</th>\n      <th>activity_date</th>\n      <th>location_extras</th>\n    </tr>\n  </thead>\n  <tbody>\n    <tr>\n      <th>0</th>\n      <td>Android Developer</td>\n      <td>Shockoe</td>\n      <td>NaN</td>\n      <td>0.0</td>\n      <td>0</td>\n      <td>Full-time</td>\n      <td>Richmond, VA</td>\n      <td>30+ days ago</td>\n      <td>NaN</td>\n      <td>NaN</td>\n      <td>...</td>\n      <td>False</td>\n      <td>NaN</td>\n      <td>False</td>\n      <td>11706594</td>\n      <td>False</td>\n      <td>False</td>\n      <td>NaN</td>\n      <td>NaN</td>\n      <td>NaN</td>\n      <td>NaN</td>\n    </tr>\n    <tr>\n      <th>1</th>\n      <td>Web Developer</td>\n      <td>Denios, Inc.</td>\n      <td>$45,000 - $55,000 a year</td>\n      <td>0.0</td>\n      <td>0</td>\n      <td>Full-time</td>\n      <td>Louisville, KY</td>\n      <td>30+ days ago</td>\n      <td>ONE</td>\n      <td>1</td>\n      <td>...</td>\n      <td>True</td>\n      <td>370154371.0</td>\n      <td>False</td>\n      <td>11468052</td>\n      <td>False</td>\n      <td>True</td>\n      <td>40219.0</td>\n      <td>NaN</td>\n      <td>Active 2 days ago</td>\n      <td>NaN</td>\n    </tr>\n    <tr>\n      <th>2</th>\n      <td>Sr. Android Developer</td>\n      <td>The Cervantes Group</td>\n      <td>NaN</td>\n      <td>4.1</td>\n      <td>22</td>\n      <td>Full-time</td>\n      <td>Remote</td>\n      <td>6 days ago</td>\n      <td>TWO_FOUR</td>\n      <td>2</td>\n      <td>...</td>\n      <td>True</td>\n      <td>NaN</td>\n      <td>False</td>\n      <td>9570478</td>\n      <td>False</td>\n      <td>True</td>\n      <td>NaN</td>\n      <td>/cmp/The-Cervantes-Group</td>\n      <td>Active 3 days ago</td>\n      <td>NaN</td>\n    </tr>\n    <tr>\n      <th>3</th>\n      <td>Junior Software Engineer</td>\n      <td>Medical Knowledge Group</td>\n      <td>NaN</td>\n      <td>0.0</td>\n      <td>0</td>\n      <td>Full-time</td>\n      <td>Remote</td>\n      <td>8 days ago</td>\n      <td>ONE</td>\n      <td>1</td>\n      <td>...</td>\n      <td>True</td>\n      <td>368864426.0</td>\n      <td>False</td>\n      <td>501562</td>\n      <td>False</td>\n      <td>True</td>\n      <td>NaN</td>\n      <td>NaN</td>\n      <td>Active 3 days ago</td>\n      <td>NaN</td>\n    </tr>\n    <tr>\n      <th>4</th>\n      <td>Cloud Engineer (Software Engineer Advanced, Ex...</td>\n      <td>Federal Reserve Bank of New York</td>\n      <td>NaN</td>\n      <td>4.1</td>\n      <td>548</td>\n      <td>Full-time</td>\n      <td>Kansas City, MO</td>\n      <td>2 days ago</td>\n      <td>NaN</td>\n      <td>NaN</td>\n      <td>...</td>\n      <td>False</td>\n      <td>NaN</td>\n      <td>False</td>\n      <td>1439</td>\n      <td>False</td>\n      <td>False</td>\n      <td>NaN</td>\n      <td>/cmp/Federal-Reserve-Bank-of-New-York</td>\n      <td>NaN</td>\n      <td>NaN</td>\n    </tr>\n  </tbody>\n</table>\n<p>5 rows × 29 columns</p>\n</div>"
     },
     "execution_count": 44,
     "metadata": {},
     "output_type": "execute_result"
    }
   ]
  },
  {
   "cell_type": "markdown",
   "source": [
    "## Information about data set\n",
    "\n",
    "From the information we are able to see all type of data in our disposal.\n",
    "Let list a few of them that are more important to us and describe their meaning\n",
    "\n",
    "\n",
    "\n",
    "*   **Title** - title of the job position on which company is hiring\n",
    "*   **Company** - name of the company that is hiring\n",
    "*   **Salary** - Salary range that the company is offering for the position\n",
    "*   **Location** - Location where the office of the company is located\n",
    "*   **Types** - Type of employment: Full-time, Part-time, Contract, Internship, Temporary\n",
    "\n",
    "Other data points are considered unrelated for our goals. Therefore, let's remove them.\n",
    "\n"
   ],
   "metadata": {
    "id": "6u462TiOTJkx"
   }
  },
  {
   "cell_type": "code",
   "source": [
    "df.info()\n",
    "columns_to_drop = ['rating', 'review_count', 'relative_time', 'hires_needed', 'hires_needed_exact',\n",
    "                   'urgently_hiring', 'remote_work_model', 'snippet', 'dradis_job', 'link', 'new_job',\n",
    "                   'job_link', 'sponsored', 'featured_employer', 'indeed_applyable', 'ad_id', 'remote_location',\n",
    "                   'source_id', 'hiring_event_job', 'indeed_apply_enabled', 'job_location_postal', 'company_overview_link',\n",
    "                   'activity_date', 'location_extras']\n",
    "df_cleaned = df.drop(columns_to_drop, axis=1)"
   ],
   "metadata": {
    "colab": {
     "base_uri": "https://localhost:8080/"
    },
    "id": "lDZ2ewTvxUAu",
    "outputId": "2f4f9c27-efac-4aa9-9672-7d340caf5b12",
    "ExecuteTime": {
     "end_time": "2024-03-27T12:05:51.642833Z",
     "start_time": "2024-03-27T12:05:51.590874Z"
    }
   },
   "execution_count": 45,
   "outputs": [
    {
     "name": "stdout",
     "output_type": "stream",
     "text": [
      "<class 'pandas.core.frame.DataFrame'>\n",
      "RangeIndex: 58433 entries, 0 to 58432\n",
      "Data columns (total 29 columns):\n",
      " #   Column                 Non-Null Count  Dtype  \n",
      "---  ------                 --------------  -----  \n",
      " 0   title                  58433 non-null  object \n",
      " 1   company                58430 non-null  object \n",
      " 2   salary                 18103 non-null  object \n",
      " 3   rating                 58433 non-null  float64\n",
      " 4   review_count           58433 non-null  int64  \n",
      " 5   types                  42577 non-null  object \n",
      " 6   location               58433 non-null  object \n",
      " 7   relative_time          58433 non-null  object \n",
      " 8   hires_needed           11857 non-null  object \n",
      " 9   hires_needed_exact     18439 non-null  object \n",
      " 10  urgently_hiring        58433 non-null  bool   \n",
      " 11  remote_work_model      22804 non-null  object \n",
      " 12  snippet                58425 non-null  object \n",
      " 13  dradis_job             58433 non-null  bool   \n",
      " 14  link                   58433 non-null  object \n",
      " 15  new_job                58433 non-null  bool   \n",
      " 16  job_link               58433 non-null  object \n",
      " 17  sponsored              58433 non-null  bool   \n",
      " 18  featured_employer      58433 non-null  bool   \n",
      " 19  indeed_applyable       58433 non-null  bool   \n",
      " 20  ad_id                  23626 non-null  float64\n",
      " 21  remote_location        58433 non-null  bool   \n",
      " 22  source_id              58433 non-null  int64  \n",
      " 23  hiring_event_job       58433 non-null  bool   \n",
      " 24  indeed_apply_enabled   58433 non-null  bool   \n",
      " 25  job_location_postal    26121 non-null  float64\n",
      " 26  company_overview_link  36295 non-null  object \n",
      " 27  activity_date          13801 non-null  object \n",
      " 28  location_extras        11450 non-null  object \n",
      "dtypes: bool(9), float64(3), int64(2), object(15)\n",
      "memory usage: 9.4+ MB\n"
     ]
    }
   ]
  },
  {
   "cell_type": "markdown",
   "source": [
    "## Cleaned Data Set\n",
    "Here is the data remained after cleaning"
   ],
   "metadata": {
    "id": "tD9mBCT4WLkX"
   }
  },
  {
   "cell_type": "code",
   "source": [
    "df_cleaned.head()"
   ],
   "metadata": {
    "colab": {
     "base_uri": "https://localhost:8080/",
     "height": 293
    },
    "id": "rZDw3dbXxWw_",
    "outputId": "2d01a4b8-be7a-4776-9922-95b40fe375cd",
    "ExecuteTime": {
     "end_time": "2024-03-27T12:05:53.728157Z",
     "start_time": "2024-03-27T12:05:53.718699Z"
    }
   },
   "execution_count": 46,
   "outputs": [
    {
     "data": {
      "text/plain": "                                               title  \\\n0                                  Android Developer   \n1                                      Web Developer   \n2                              Sr. Android Developer   \n3                           Junior Software Engineer   \n4  Cloud Engineer (Software Engineer Advanced, Ex...   \n\n                            company                    salary      types  \\\n0                           Shockoe                       NaN  Full-time   \n1                      Denios, Inc.  $45,000 - $55,000 a year  Full-time   \n2               The Cervantes Group                       NaN  Full-time   \n3           Medical Knowledge Group                       NaN  Full-time   \n4  Federal Reserve Bank of New York                       NaN  Full-time   \n\n          location  \n0     Richmond, VA  \n1   Louisville, KY  \n2           Remote  \n3           Remote  \n4  Kansas City, MO  ",
      "text/html": "<div>\n<style scoped>\n    .dataframe tbody tr th:only-of-type {\n        vertical-align: middle;\n    }\n\n    .dataframe tbody tr th {\n        vertical-align: top;\n    }\n\n    .dataframe thead th {\n        text-align: right;\n    }\n</style>\n<table border=\"1\" class=\"dataframe\">\n  <thead>\n    <tr style=\"text-align: right;\">\n      <th></th>\n      <th>title</th>\n      <th>company</th>\n      <th>salary</th>\n      <th>types</th>\n      <th>location</th>\n    </tr>\n  </thead>\n  <tbody>\n    <tr>\n      <th>0</th>\n      <td>Android Developer</td>\n      <td>Shockoe</td>\n      <td>NaN</td>\n      <td>Full-time</td>\n      <td>Richmond, VA</td>\n    </tr>\n    <tr>\n      <th>1</th>\n      <td>Web Developer</td>\n      <td>Denios, Inc.</td>\n      <td>$45,000 - $55,000 a year</td>\n      <td>Full-time</td>\n      <td>Louisville, KY</td>\n    </tr>\n    <tr>\n      <th>2</th>\n      <td>Sr. Android Developer</td>\n      <td>The Cervantes Group</td>\n      <td>NaN</td>\n      <td>Full-time</td>\n      <td>Remote</td>\n    </tr>\n    <tr>\n      <th>3</th>\n      <td>Junior Software Engineer</td>\n      <td>Medical Knowledge Group</td>\n      <td>NaN</td>\n      <td>Full-time</td>\n      <td>Remote</td>\n    </tr>\n    <tr>\n      <th>4</th>\n      <td>Cloud Engineer (Software Engineer Advanced, Ex...</td>\n      <td>Federal Reserve Bank of New York</td>\n      <td>NaN</td>\n      <td>Full-time</td>\n      <td>Kansas City, MO</td>\n    </tr>\n  </tbody>\n</table>\n</div>"
     },
     "execution_count": 46,
     "metadata": {},
     "output_type": "execute_result"
    }
   ]
  },
  {
   "cell_type": "markdown",
   "source": [
    "## Normalising Data\n",
    "After we cleaned irrelevant data we need to normalise salary ranges. In the code snippet bellow we can see that salary range for a position can be stated as \"a year\", \"a month\", \"a week\", \"an hour\"\n",
    "\n",
    "- First of all we will convert salary data to dollars per year.\n",
    "\n",
    "- And after we will split range data to min_salary and max_salary for the role"
   ],
   "metadata": {
    "id": "PHhkHY0RwuAS"
   }
  },
  {
   "cell_type": "markdown",
   "source": [
    "### Converting Salary Data\n",
    "let's look at the unique values in the 'salary' column to understand the data better"
   ],
   "metadata": {
    "collapsed": false
   }
  },
  {
   "cell_type": "code",
   "outputs": [
    {
     "data": {
      "text/plain": "                             0\n0                          NaN\n1     $55,000 - $95,000 a year\n2     $36,000 - $50,000 a year\n3    $90,000 - $150,000 a year\n4    $81,585 - $169,166 a year\n..                         ...\n95    $85,000 - $95,000 a year\n96   $74,900 - $142,800 a year\n97  $105,000 - $160,000 a year\n98   $67,195 - $125,000 a year\n99          $50 - $125 an hour\n\n[100 rows x 1 columns]",
      "text/html": "<div>\n<style scoped>\n    .dataframe tbody tr th:only-of-type {\n        vertical-align: middle;\n    }\n\n    .dataframe tbody tr th {\n        vertical-align: top;\n    }\n\n    .dataframe thead th {\n        text-align: right;\n    }\n</style>\n<table border=\"1\" class=\"dataframe\">\n  <thead>\n    <tr style=\"text-align: right;\">\n      <th></th>\n      <th>0</th>\n    </tr>\n  </thead>\n  <tbody>\n    <tr>\n      <th>0</th>\n      <td>NaN</td>\n    </tr>\n    <tr>\n      <th>1</th>\n      <td>$55,000 - $95,000 a year</td>\n    </tr>\n    <tr>\n      <th>2</th>\n      <td>$36,000 - $50,000 a year</td>\n    </tr>\n    <tr>\n      <th>3</th>\n      <td>$90,000 - $150,000 a year</td>\n    </tr>\n    <tr>\n      <th>4</th>\n      <td>$81,585 - $169,166 a year</td>\n    </tr>\n    <tr>\n      <th>...</th>\n      <td>...</td>\n    </tr>\n    <tr>\n      <th>95</th>\n      <td>$85,000 - $95,000 a year</td>\n    </tr>\n    <tr>\n      <th>96</th>\n      <td>$74,900 - $142,800 a year</td>\n    </tr>\n    <tr>\n      <th>97</th>\n      <td>$105,000 - $160,000 a year</td>\n    </tr>\n    <tr>\n      <th>98</th>\n      <td>$67,195 - $125,000 a year</td>\n    </tr>\n    <tr>\n      <th>99</th>\n      <td>$50 - $125 an hour</td>\n    </tr>\n  </tbody>\n</table>\n<p>100 rows × 1 columns</p>\n</div>"
     },
     "execution_count": 47,
     "metadata": {},
     "output_type": "execute_result"
    }
   ],
   "source": [
    "# Get unique values after dropping NaNs\n",
    "unique_salaries = set(df_cleaned['salary'].unique())\n",
    "unique_salaries_df = pd.DataFrame(unique_salaries)\n",
    "unique_salaries_df.head(n=100)"
   ],
   "metadata": {
    "collapsed": false,
    "ExecuteTime": {
     "end_time": "2024-03-27T12:06:05.051385Z",
     "start_time": "2024-03-27T12:06:05.038733Z"
    }
   },
   "execution_count": 47
  },
  {
   "cell_type": "markdown",
   "source": [
    "### Converting to Yearly Salary\n",
    "From previous snippet we see that the salary appears in different formats and rates. \n",
    "- a year, a month, a week, an hour\n",
    "- range and fixed rate\n",
    "\n",
    "- Let's try to convert all of them to yearly salary"
   ],
   "metadata": {
    "collapsed": false
   }
  },
  {
   "cell_type": "code",
   "source": [
    "# Cleaning symbols\n",
    "def clean_text(text: str):\n",
    "    if pd.isna(text):\n",
    "        return \"None\"\n",
    "    # Split the text by ' - ' to separate the salary range\n",
    "    cleaned_text = (text\n",
    "                    .lower()\n",
    "                    .replace('$', '')\n",
    "                    .replace(',', '')\n",
    "                    .replace(' - ', ' '))\n",
    "\n",
    "    return cleaned_text\n",
    "\n",
    "df_cleaned['salary_temp'] = df_cleaned['salary'].apply(clean_text)\n",
    "\n",
    "df_cleaned['salary_temp']"
   ],
   "metadata": {
    "id": "WKo4kSmyXCuO",
    "ExecuteTime": {
     "end_time": "2024-03-27T12:06:08.091008Z",
     "start_time": "2024-03-27T12:06:08.042837Z"
    }
   },
   "execution_count": 48,
   "outputs": [
    {
     "data": {
      "text/plain": "0                      None\n1        45000 55000 a year\n2                      None\n3                      None\n4                      None\n                ...        \n58428                  None\n58429                  None\n58430                  None\n58431                  None\n58432                  None\nName: salary_temp, Length: 58433, dtype: object"
     },
     "execution_count": 48,
     "metadata": {},
     "output_type": "execute_result"
    }
   ]
  },
  {
   "cell_type": "code",
   "source": [
    "# Define the assumption for hours worked per year\n",
    "hours_per_year = 1892  # Statistical data from clockify \n",
    "\n",
    "def convert_range_match(match: re.Match[str]) -> object:\n",
    "    if match.group(3) == 'a year':\n",
    "        yearly_min = float(match.group(1))\n",
    "        yearly_max = float(match.group(2))\n",
    "    if match.group(3) == 'a month':\n",
    "        yearly_min = float(match.group(1)) * 12\n",
    "        yearly_max = float(match.group(2)) * 12\n",
    "    if match.group(3) == 'an hour':\n",
    "        yearly_min = float(match.group(1)) * hours_per_year\n",
    "        yearly_max = float(match.group(2)) * hours_per_year        \n",
    "    return f\"{yearly_min:.0f} {yearly_max:.0f}\"\n",
    "\n",
    "def convert_fixed_match(match: re.Match[str]) -> object:\n",
    "    if match.group(2) == 'a year':\n",
    "        yearly_min = float(match.group(1))\n",
    "        yearly_max = yearly_min\n",
    "    if match.group(2) == 'a month':\n",
    "        yearly_min = float(match.group(1)) * 12\n",
    "        yearly_max = yearly_min\n",
    "    if match.group(2) == 'an hour':\n",
    "        yearly_min = float(match.group(1)) * hours_per_year\n",
    "        yearly_max = yearly_min        \n",
    "    return f\"{yearly_min:.0f} {yearly_max:.0f}\"\n",
    "\n",
    "def converter(salary: str):\n",
    "    if salary == 'None':\n",
    "        return salary\n",
    "    \n",
    "    range_pattern = r'(\\d+\\.?\\d*) (\\d+\\.?\\d*) (a year|a month|an hour)'\n",
    "    fixed_pattern = r'(\\d+\\.?\\d*) (a year|a month|an hour)'\n",
    "    \n",
    "    range_match = re.search(range_pattern, salary)\n",
    "    fixed_match = re.search(fixed_pattern, salary)\n",
    "    \n",
    "    if range_match:\n",
    "        return convert_range_match(range_match)\n",
    "\n",
    "    if fixed_match:\n",
    "        return convert_fixed_match(fixed_match)\n",
    "# Apply the function to the 'salary' column\n",
    "df_cleaned['salary_temp'] = df_cleaned['salary_temp'].apply(converter)\n",
    "df_cleaned['salary_temp']"
   ],
   "metadata": {
    "colab": {
     "base_uri": "https://localhost:8080/"
    },
    "id": "HUZydikrYvnb",
    "outputId": "8edef510-2d06-4517-8244-9f7ef14ea830",
    "ExecuteTime": {
     "end_time": "2024-03-27T12:06:11.333875Z",
     "start_time": "2024-03-27T12:06:11.246591Z"
    }
   },
   "execution_count": 49,
   "outputs": [
    {
     "data": {
      "text/plain": "0               None\n1        45000 55000\n2               None\n3               None\n4               None\n            ...     \n58428           None\n58429           None\n58430           None\n58431           None\n58432           None\nName: salary_temp, Length: 58433, dtype: object"
     },
     "execution_count": 49,
     "metadata": {},
     "output_type": "execute_result"
    }
   ]
  },
  {
   "cell_type": "code",
   "source": [
    "# Splitting the 'salary' column on whitespace\n",
    "salary_split = df_cleaned['salary_temp'].str.split(expand=True)\n",
    "\n",
    "# Assigning the split parts to 'min_salary' and 'max_salary' columns\n",
    "df_cleaned['min_salary'] = salary_split[0]\n",
    "df_cleaned['max_salary'] = salary_split[1]\n",
    "\n",
    "df_cleaned.drop(columns='salary_temp', inplace=True)\n",
    "df_cleaned"
   ],
   "metadata": {
    "colab": {
     "base_uri": "https://localhost:8080/"
    },
    "id": "o7yM6MA_eM1a",
    "outputId": "2e613717-8b46-4e86-b0ce-4b7a0659aedd",
    "ExecuteTime": {
     "end_time": "2024-03-27T12:07:20.772055Z",
     "start_time": "2024-03-27T12:07:20.631958Z"
    }
   },
   "execution_count": 51,
   "outputs": [
    {
     "data": {
      "text/plain": "                                                   title  \\\n0                                      Android Developer   \n1                                          Web Developer   \n2                                  Sr. Android Developer   \n3                               Junior Software Engineer   \n4      Cloud Engineer (Software Engineer Advanced, Ex...   \n...                                                  ...   \n58428                               Mobile App Developer   \n58429                    Senior Software Engineer (TCAT)   \n58430                                  Software Engineer   \n58431                         Systems Analyst/Programmer   \n58432                        Senior Engineer II-Software   \n\n                                company                    salary      types  \\\n0                               Shockoe                       NaN  Full-time   \n1                          Denios, Inc.  $45,000 - $55,000 a year  Full-time   \n2                   The Cervantes Group                       NaN  Full-time   \n3               Medical Knowledge Group                       NaN  Full-time   \n4      Federal Reserve Bank of New York                       NaN  Full-time   \n...                                 ...                       ...        ...   \n58428                    SIDEARM Sports                       NaN        NaN   \n58429                    Think Surgical                       NaN  Full-time   \n58430         Terma North America, Inc.                       NaN  Full-time   \n58431     Grant Blackford Mental Health                       NaN  Full-time   \n58432                 Microchip Careers                       NaN  Full-time   \n\n                location min_salary max_salary  \n0           Richmond, VA       None       None  \n1         Louisville, KY      45000      55000  \n2                 Remote       None       None  \n3                 Remote       None       None  \n4        Kansas City, MO       None       None  \n...                  ...        ...        ...  \n58428       Syracuse, NY       None       None  \n58429        Fremont, CA       None       None  \n58430  Warner Robins, GA       None       None  \n58431         Marion, IN       None       None  \n58432       San Jose, CA       None       None  \n\n[58433 rows x 7 columns]",
      "text/html": "<div>\n<style scoped>\n    .dataframe tbody tr th:only-of-type {\n        vertical-align: middle;\n    }\n\n    .dataframe tbody tr th {\n        vertical-align: top;\n    }\n\n    .dataframe thead th {\n        text-align: right;\n    }\n</style>\n<table border=\"1\" class=\"dataframe\">\n  <thead>\n    <tr style=\"text-align: right;\">\n      <th></th>\n      <th>title</th>\n      <th>company</th>\n      <th>salary</th>\n      <th>types</th>\n      <th>location</th>\n      <th>min_salary</th>\n      <th>max_salary</th>\n    </tr>\n  </thead>\n  <tbody>\n    <tr>\n      <th>0</th>\n      <td>Android Developer</td>\n      <td>Shockoe</td>\n      <td>NaN</td>\n      <td>Full-time</td>\n      <td>Richmond, VA</td>\n      <td>None</td>\n      <td>None</td>\n    </tr>\n    <tr>\n      <th>1</th>\n      <td>Web Developer</td>\n      <td>Denios, Inc.</td>\n      <td>$45,000 - $55,000 a year</td>\n      <td>Full-time</td>\n      <td>Louisville, KY</td>\n      <td>45000</td>\n      <td>55000</td>\n    </tr>\n    <tr>\n      <th>2</th>\n      <td>Sr. Android Developer</td>\n      <td>The Cervantes Group</td>\n      <td>NaN</td>\n      <td>Full-time</td>\n      <td>Remote</td>\n      <td>None</td>\n      <td>None</td>\n    </tr>\n    <tr>\n      <th>3</th>\n      <td>Junior Software Engineer</td>\n      <td>Medical Knowledge Group</td>\n      <td>NaN</td>\n      <td>Full-time</td>\n      <td>Remote</td>\n      <td>None</td>\n      <td>None</td>\n    </tr>\n    <tr>\n      <th>4</th>\n      <td>Cloud Engineer (Software Engineer Advanced, Ex...</td>\n      <td>Federal Reserve Bank of New York</td>\n      <td>NaN</td>\n      <td>Full-time</td>\n      <td>Kansas City, MO</td>\n      <td>None</td>\n      <td>None</td>\n    </tr>\n    <tr>\n      <th>...</th>\n      <td>...</td>\n      <td>...</td>\n      <td>...</td>\n      <td>...</td>\n      <td>...</td>\n      <td>...</td>\n      <td>...</td>\n    </tr>\n    <tr>\n      <th>58428</th>\n      <td>Mobile App Developer</td>\n      <td>SIDEARM Sports</td>\n      <td>NaN</td>\n      <td>NaN</td>\n      <td>Syracuse, NY</td>\n      <td>None</td>\n      <td>None</td>\n    </tr>\n    <tr>\n      <th>58429</th>\n      <td>Senior Software Engineer (TCAT)</td>\n      <td>Think Surgical</td>\n      <td>NaN</td>\n      <td>Full-time</td>\n      <td>Fremont, CA</td>\n      <td>None</td>\n      <td>None</td>\n    </tr>\n    <tr>\n      <th>58430</th>\n      <td>Software Engineer</td>\n      <td>Terma North America, Inc.</td>\n      <td>NaN</td>\n      <td>Full-time</td>\n      <td>Warner Robins, GA</td>\n      <td>None</td>\n      <td>None</td>\n    </tr>\n    <tr>\n      <th>58431</th>\n      <td>Systems Analyst/Programmer</td>\n      <td>Grant Blackford Mental Health</td>\n      <td>NaN</td>\n      <td>Full-time</td>\n      <td>Marion, IN</td>\n      <td>None</td>\n      <td>None</td>\n    </tr>\n    <tr>\n      <th>58432</th>\n      <td>Senior Engineer II-Software</td>\n      <td>Microchip Careers</td>\n      <td>NaN</td>\n      <td>Full-time</td>\n      <td>San Jose, CA</td>\n      <td>None</td>\n      <td>None</td>\n    </tr>\n  </tbody>\n</table>\n<p>58433 rows × 7 columns</p>\n</div>"
     },
     "execution_count": 51,
     "metadata": {},
     "output_type": "execute_result"
    }
   ]
  },
  {
   "cell_type": "markdown",
   "source": [
    "### Splitting"
   ],
   "metadata": {
    "id": "PUggEuBXzq7J"
   }
  },
  {
   "cell_type": "code",
   "source": [
    "# df_cleaned.duplicated()\n",
    "df_cleaned.tail()"
   ],
   "metadata": {
    "id": "SOZr4Xw7zuZd",
    "colab": {
     "base_uri": "https://localhost:8080/",
     "height": 204
    },
    "outputId": "15c5b9bd-da7d-49ed-af43-46094bac78a6",
    "ExecuteTime": {
     "end_time": "2024-03-27T12:07:32.951899Z",
     "start_time": "2024-03-27T12:07:32.941835Z"
    }
   },
   "execution_count": 52,
   "outputs": [
    {
     "data": {
      "text/plain": "                                 title                        company salary  \\\n58428             Mobile App Developer                 SIDEARM Sports    NaN   \n58429  Senior Software Engineer (TCAT)                 Think Surgical    NaN   \n58430                Software Engineer      Terma North America, Inc.    NaN   \n58431       Systems Analyst/Programmer  Grant Blackford Mental Health    NaN   \n58432      Senior Engineer II-Software              Microchip Careers    NaN   \n\n           types           location min_salary max_salary  \n58428        NaN       Syracuse, NY       None       None  \n58429  Full-time        Fremont, CA       None       None  \n58430  Full-time  Warner Robins, GA       None       None  \n58431  Full-time         Marion, IN       None       None  \n58432  Full-time       San Jose, CA       None       None  ",
      "text/html": "<div>\n<style scoped>\n    .dataframe tbody tr th:only-of-type {\n        vertical-align: middle;\n    }\n\n    .dataframe tbody tr th {\n        vertical-align: top;\n    }\n\n    .dataframe thead th {\n        text-align: right;\n    }\n</style>\n<table border=\"1\" class=\"dataframe\">\n  <thead>\n    <tr style=\"text-align: right;\">\n      <th></th>\n      <th>title</th>\n      <th>company</th>\n      <th>salary</th>\n      <th>types</th>\n      <th>location</th>\n      <th>min_salary</th>\n      <th>max_salary</th>\n    </tr>\n  </thead>\n  <tbody>\n    <tr>\n      <th>58428</th>\n      <td>Mobile App Developer</td>\n      <td>SIDEARM Sports</td>\n      <td>NaN</td>\n      <td>NaN</td>\n      <td>Syracuse, NY</td>\n      <td>None</td>\n      <td>None</td>\n    </tr>\n    <tr>\n      <th>58429</th>\n      <td>Senior Software Engineer (TCAT)</td>\n      <td>Think Surgical</td>\n      <td>NaN</td>\n      <td>Full-time</td>\n      <td>Fremont, CA</td>\n      <td>None</td>\n      <td>None</td>\n    </tr>\n    <tr>\n      <th>58430</th>\n      <td>Software Engineer</td>\n      <td>Terma North America, Inc.</td>\n      <td>NaN</td>\n      <td>Full-time</td>\n      <td>Warner Robins, GA</td>\n      <td>None</td>\n      <td>None</td>\n    </tr>\n    <tr>\n      <th>58431</th>\n      <td>Systems Analyst/Programmer</td>\n      <td>Grant Blackford Mental Health</td>\n      <td>NaN</td>\n      <td>Full-time</td>\n      <td>Marion, IN</td>\n      <td>None</td>\n      <td>None</td>\n    </tr>\n    <tr>\n      <th>58432</th>\n      <td>Senior Engineer II-Software</td>\n      <td>Microchip Careers</td>\n      <td>NaN</td>\n      <td>Full-time</td>\n      <td>San Jose, CA</td>\n      <td>None</td>\n      <td>None</td>\n    </tr>\n  </tbody>\n</table>\n</div>"
     },
     "execution_count": 52,
     "metadata": {},
     "output_type": "execute_result"
    }
   ]
  }
 ],
 "metadata": {
  "colab": {
   "provenance": []
  },
  "kernelspec": {
   "name": "python3",
   "language": "python",
   "display_name": "Python 3 (ipykernel)"
  },
  "language_info": {
   "name": "python"
  }
 },
 "nbformat": 4,
 "nbformat_minor": 0
}
